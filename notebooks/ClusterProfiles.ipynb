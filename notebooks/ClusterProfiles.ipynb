{
 "cells": [
  {
   "cell_type": "code",
   "execution_count": 2,
   "metadata": {
    "collapsed": false
   },
   "outputs": [],
   "source": [
    "from matplotlib import pyplot as plt\n",
    "from L500analysis.plotting.tools.figure_formatting import MyLogFormatter\n",
    "%matplotlib inline"
   ]
  },
  {
   "cell_type": "markdown",
   "metadata": {},
   "source": [
    "We first plot the pressure profiles from the stacked McDonald+14 Chandra data at $<z>=0.4$ and $<z>=0.8$."
   ]
  },
  {
   "cell_type": "code",
   "execution_count": 3,
   "metadata": {
    "collapsed": false
   },
   "outputs": [],
   "source": [
    "import numpy as np\n",
    "from SZmaps.utils.obs_utils import general_nfw_profile, McDonald14_params\n",
    "\n",
    "rbins = np.arange(.1,5.,0.01)\n",
    "def plot_McDonald(rbins) :\n",
    "    plt.plot(rbins, general_nfw_profile(rbins,**McDonald14_params['z=0.4']),ls=':',label='M14: z=0.4')\n",
    "    plt.plot(rbins, general_nfw_profile(rbins,**McDonald14_params['z=0.8']),ls=':',label='M14: z=0.8')\n",
    "    plt.xscale('log')\n",
    "    plt.yscale('log')\n",
    "    plt.ylabel('$\\\\tilde{P}$',fontsize='xx-large')\n",
    "    plt.xlabel('r/R$_{500c}$',fontsize='xx-large')\n",
    "    plt.legend()\n",
    "    plt.gca().xaxis.set_major_formatter(MyLogFormatter())\n",
    "    plt.gca().yaxis.set_major_formatter(MyLogFormatter())"
   ]
  },
  {
   "cell_type": "markdown",
   "metadata": {},
   "source": [
    "Now we compare with the L500 NR, CSF, and AGN average pressure profiles with different averaged weighting"
   ]
  },
  {
   "cell_type": "code",
   "execution_count": 4,
   "metadata": {
    "collapsed": false
   },
   "outputs": [],
   "source": [
    "import numpy as np\n",
    "\n",
    "def calculate_scaled_profile(aexp, r_mid, r500c, profile, M500c, rbins=rbins)  :\n",
    "    radii_scaled_by_500c = r_mid / r500c\n",
    "    pressure_scaled_by_500c = calculate_scaled_pressure(profile, aexp, M500c)\n",
    "    profile_scaled_by_500c = np.interp(rbins, \n",
    "                                       radii_scaled_by_500c, \n",
    "                                       pressure_scaled_by_500c)\n",
    "    assert(profile_scaled_by_500c.shape == rbins.shape)\n",
    "    return profile_scaled_by_500c\n",
    "    \n",
    "def calculate_scaled_pressure(pressure_profile, aexp, M500c) :\n",
    "    return pressure_profile / calculate_P500(M500c,aexp)\n",
    "\n",
    "def calculate_P500(M500c, aexp) :\n",
    "    from astropy.cosmology import WMAP9 as cosmo\n",
    "    '''Returns P500 in erg/cm**3. M500c expected in Msun/h'''\n",
    "    return 1.45*1e-11 * (M500c / 1e15)**(2./3) * cosmo.efunc(1./float(aexp) - 1.)\n",
    "\n",
    "def test_calculate_P500() :\n",
    "    aexp = 1.\n",
    "    m500c = 1e15\n",
    "    assert(calculate_P500(1e15, aexp) == 1.45*1e-11)\n",
    "\n",
    "def test_calculate_scaled_pressure() :\n",
    "    import numpy as np\n",
    "    flat_pressure_profile = np.zeros(100)+1.\n",
    "    aexp =1.\n",
    "    #print calculate_scaled_pressure(flat_pressure_profile, aexp, 1e15)\n",
    "    assert(np.all(calculate_scaled_pressure(flat_pressure_profile, aexp, 1e15) == 1/(1.45*1e-11)))\n",
    "\n",
    "def test_calculate_scaled_profile() :\n",
    "    import numpy as np\n",
    "    aexp = 1.\n",
    "    r_mid = np.arange(0.0, 10,.1)\n",
    "    r500c = 500.\n",
    "    profile = np.zeros(100)+1.\n",
    "    M500c = 1e15\n",
    "    assert(np.all(calculate_scaled_profile(aexp,r_mid, r500c, profile, M500c,rbins=rbins[:len(r_mid)])\\\n",
    "                  == np.zeros(100)+1./(1.45*1e-11) ) )\n",
    "    \n",
    "test_calculate_P500()\n",
    "test_calculate_scaled_pressure()\n",
    "test_calculate_scaled_profile()\n",
    "\n",
    "# Normalization function collections\n",
    "def pressure_critical_density_evolution(aexp) :\n",
    "    '''Returns E(z)**(2/3)'''\n",
    "    from astropy.cosmology import WMAP9 as cosmo\n",
    "    return cosmo.efunc( 1./float(aexp) - 1. )\n",
    "\n",
    "def calculate_average_normalized_profiles(halo_profiles_dict, halo_properties_dict, halo_ids, profile_name, evolution_normalization_function=None, M500min=1e13) :\n",
    "    '''evolution_normalization_function should be from normalization_collections'''\n",
    "    from collections import defaultdict\n",
    "    average_profiles = defaultdict(list)\n",
    "    for aexp in halo_profiles_dict.keys() :\n",
    "        halo_profiles_dataframe = halo_profiles_dict[aexp]\n",
    "        halo_properties_dataframe = halo_properties_dict[aexp]\n",
    "        for halo_id in halo_ids[aexp] :\n",
    "            halo_id_profile_dataframe = halo_profiles_dataframe[halo_profiles_dataframe['id']==halo_id]\n",
    "            halo_id_property_dataframe = halo_properties_dataframe[halo_properties_dataframe['id']==halo_id]\n",
    "            r_mid = halo_id_profile_dataframe.as_matrix(columns=['r_mid'])[:,0]\n",
    "            profile = halo_id_profile_dataframe.as_matrix(columns=[profile_name])[:,0]\n",
    "            r500c = halo_id_property_dataframe.as_matrix(columns=['r500c'])[:,0]\n",
    "            M500c = halo_id_property_dataframe.as_matrix(columns=['M_total_500c'])[:,0]\n",
    "            if M500c < M500min :\n",
    "                continue\n",
    "            average_profiles[aexp].append(calculate_scaled_profile(aexp, r_mid, r500c, profile, M500c, rbins=rbins))\n",
    "        \n",
    "        average_profiles[aexp] = np.array(average_profiles[aexp]).mean(axis=0)\n",
    "    return average_profiles"
   ]
  },
  {
   "cell_type": "code",
   "execution_count": 5,
   "metadata": {
    "collapsed": false
   },
   "outputs": [],
   "source": [
    "# Refactoring the functions in the cell above so they can apply to any thermodynamic profile \n",
    "# scaling (critical, mean, etc.) and averaging (mean, median, etc.)\n",
    "\n",
    "def calculate_rbinned_scaled_profile(profile_scaling_function, profile, r_mid, rnormalization, \n",
    "                             rbins=rbins, aexp=None, mass=None, **profile_scaling_kwargs) :\n",
    "                             \n",
    "    ''' Note: Typically, profile_scaling_kwargs will need aexp and mass (assuming \n",
    "    that scaling is mass and aexp dependent).  \n",
    "    Also, assumes that rbins has been defined in same level module'''\n",
    "\n",
    "    scaled_radii = r_mid / rnormalization\n",
    "    scaled_profile = calculate_scaled_profile(profile_scaling_function, profile,\n",
    "                                             **profile_scaling_kwargs)\n",
    "    \n",
    "    scaled_profile_in_rbins = np.interp(rbins, scaled_radii, scaled_profile) \n",
    "    \n",
    "    assert(scaled_profile_in_rbins.shape == rbins.shape)\n",
    "    \n",
    "    return scaled_profile_in_rbins\n",
    "\n",
    "def calculate_scaled_profile(profile_scaling_function, profile, \n",
    "                             **profile_scaling_kwargs) :\n",
    "    '''Returns profile scaled by some function'''\n",
    "    return profile / profile_scaling_function(**profile_scaling_kwargs)\n",
    "\n",
    "\n",
    "###  NEED TO MOVE THE FOLLOWING TO scaling_function_collections.py ####\n",
    "\n",
    "def pressure_critical_scaling(aexp=None, mass=None) :\n",
    "    '''Calculates P_deltac.  Part of profile_scaling_function_collections. \n",
    "    Returns P_deltac in erg/cm**3. M_deltac (mass) expected in Msun/h'''\n",
    "    \n",
    "    from astropy.cosmology import WMAP9 as cosmo\n",
    "    return 1.45*1e-11 * (mass / 1e15)**(2./3) * cosmo.efunc(1./float(aexp) - 1.)**(8./3)\n",
    "\n",
    "def pressure_mean_scaling(aexp=None, mass=None) :\n",
    "    '''Calculates P_deltam.  Part of profile_scaling_function_collections. \n",
    "    Returns P_deltam in erg/cm**3.  M_deltam (mass) expected in Msun/h'''\n",
    "    \n",
    "    return 1.45*1e-11 * (mass/1e15)**(2./3) * (1./aexp)**(8./3)\n",
    "\n",
    "def temperature_critical_scaling(aexp=None, mass=None) :\n",
    "    '''Calculates T_deltac.  Part of profile_scaling_function_collections. \n",
    "    Returns T_deltac in keV. M_deltac (mass) expected in Msun/h'''\n",
    "    from astropy.cosmology import WMAP9 as cosmo    \n",
    "    return 11.05 * (mass/1e15)**(2./3) * cosmo.efunc(1./float(aexp)-1.)**(2./3)\n",
    "\n",
    "def temperature_mean_scaling(aexp=None, mass=None) :\n",
    "    '''Calculates T_deltam.  Part of profile_scaling_function_collections. \n",
    "    Returns T_deltam in keV. M_deltam (mass) expected in Msun/h'''\n",
    "    from astropy.cosmology import WMAP9 as cosmo    \n",
    "    return 11.05 * (mass/1e15)**(2./3) * (1./float(aexp))**(2./3)\n",
    "\n",
    "def entropy_critical_scaling(aexp=None, mass=None) :\n",
    "    '''Calculates K_deltac.  Part of profile_scaling_function_collections. \n",
    "    Returns K_deltac in keV/cm**2. M_deltac (mass) expected in Msun/h'''\n",
    "    from astropy.cosmology import WMAP9 as cosmo    \n",
    "    return 1963 * (mass/1e15)**(2./3) * cosmo.efunc(1./float(aexp)-1.)**(-2./3)\n",
    "\n",
    "def entropy_mean_scaling(aexp=None, mass=None) :\n",
    "    '''Calculates K_deltam.  Part of profile_scaling_function_collections. \n",
    "    Returns K_deltam in keV/cm**2. M_deltam (mass) expected in Msun/h'''\n",
    "    from astropy.cosmology import WMAP9 as cosmo    \n",
    "    return 1963 * (mass/1e15)**(2./3) * (1./aexp)**(-2./3)\n",
    "\n",
    "########################################################################################\n",
    "\n",
    "def calculate_scaled_profile_stats(halo_profiles_dict, halo_properties_dict, halo_ids, aexp, \n",
    "                                    profile_name=None, profile_scaling_function=None, \n",
    "                                   halo_props_kwargs=None,\n",
    "                                    mass_min=1e13) :\n",
    "    '''Get all the scaled profiles, calculate mean, median, and/or other quantities'''\n",
    "\n",
    "    scaled_profiles = []\n",
    "    halo_profiles_dataframe = halo_profiles_dict[aexp]\n",
    "    halo_properties_dataframe = halo_properties_dict[aexp]\n",
    "    for halo_id in halo_ids :\n",
    "        halo_id_profile_dataframe = halo_profiles_dataframe[halo_profiles_dataframe['id']==halo_id]\n",
    "        halo_id_property_dataframe = halo_properties_dataframe[halo_properties_dataframe['id']==halo_id]\n",
    "        r_mid = halo_id_profile_dataframe.as_matrix(columns=['r_mid'])[:,0]\n",
    "        profile = halo_id_profile_dataframe.as_matrix(columns=[profile_name])[:,0]\n",
    "        rnormalization = halo_id_property_dataframe.as_matrix(columns=['r500c'])[:,0]\n",
    "        mass = halo_id_property_dataframe.as_matrix(columns=['M_total_500c'])[:,0]\n",
    "        if mass < mass_min :\n",
    "            continue\n",
    "        scaled_profile = calculate_rbinned_scaled_profile(profile_scaling_function, \n",
    "                                                          profile, r_mid, rnormalization, \n",
    "                                                        rbins=rbins, aexp=aexp, \n",
    "                                                         **profile_scaling_kwargs)\n",
    "        scaled_profiles.append(scaled_profile)\n",
    "        \n",
    "    scaled_profiles = np.array(scaled_profiles)\n",
    "    \n",
    "    return scaled_profiles.mean(axis=0), scaled_profiles.median(axis=0), \\\n",
    "            np.std(scaled_profiles, axis=0)\n"
   ]
  },
  {
   "cell_type": "code",
   "execution_count": 6,
   "metadata": {
    "collapsed": false
   },
   "outputs": [],
   "source": [
    "# Get the closest aexps corresponding to average redshifts of the McDonald+14 sample\n",
    "aexps = [1./(1. + redshift) for redshift in [0.4, 0.8]]\n",
    "\n",
    "def get_simulation_average_profiles(database_name='L500_NR_0', database_dir='/home/babyostrich/data/databases/',\n",
    "                                  rscales=['500c'], aexps=aexps, profiles=['P_mw','P_vw', 'Bulk_P_vw', 'Bulk_P_mw'],\n",
    "                                   M500min=3e14) :\n",
    "    import L500analysis.caps.io.reader as db\n",
    "\n",
    "    # Load the simulation\n",
    "    sim = db.Simulation(database_name,db_dir=database_dir)\n",
    "    sim_aexps = [sim.find_aexp(aexp) for aexp in aexps]\n",
    "    \n",
    "    # Get the halo_ids\n",
    "    halo_ids = {aexp: sim.get_halo_ids(aexp) for aexp in sim_aexps}\n",
    "    \n",
    "    # Get necessary properties: 'r500c, r200m, M_total_500c, M_total_200m' from halos table; 'P_mw, P_vw, Bulk_P_vw, Bulk_P_mw'\n",
    "    props = ['r'+r for r in rscales] + ['M_total_'+r for r in rscales]\n",
    "    profiles = ['P_mw', 'P_vw', 'Bulk_P_vw', 'Bulk_P_mw']\n",
    "\n",
    "    # Select the halo properties and profiles for the aexp\n",
    "    halo_properties_dict = {aexp: sim.get_halo_properties(halo_ids[aexp], props, aexp) \n",
    "                               for aexp in sim_aexps}\n",
    "    halo_profiles_dict = {aexp: sim.get_halo_profiles(halo_ids[aexp], profiles, aexp) \n",
    "                               for aexp in sim_aexps}    \n",
    "    \n",
    "    average_profiles = {}\n",
    "    for profile_name in profiles :  \n",
    "        average_profiles[profile_name] = calculate_average_normalized_profiles(halo_profiles_dict, \n",
    "                                                                               halo_properties_dict, \n",
    "                                                                               halo_ids, profile_name, M500min=M500min)\n",
    "    \n",
    "    return average_profiles"
   ]
  },
  {
   "cell_type": "code",
   "execution_count": 7,
   "metadata": {
    "collapsed": false
   },
   "outputs": [
    {
     "name": "stdout",
     "output_type": "stream",
     "text": [
      "looking in /home/babyostrich/data/databases/ for L500_NR_0.db\n"
     ]
    },
    {
     "ename": "TypeError",
     "evalue": "calculate_scaled_profile() takes exactly 2 arguments (6 given)",
     "output_type": "error",
     "traceback": [
      "\u001b[0;31m---------------------------------------------------------------------------\u001b[0m",
      "\u001b[0;31mTypeError\u001b[0m                                 Traceback (most recent call last)",
      "\u001b[0;32m<ipython-input-7-fc2b68d3e82f>\u001b[0m in \u001b[0;36m<module>\u001b[0;34m()\u001b[0m\n\u001b[1;32m      1\u001b[0m \u001b[0mM500min\u001b[0m\u001b[0;34m=\u001b[0m\u001b[0;36m3e14\u001b[0m\u001b[0;34m\u001b[0m\u001b[0m\n\u001b[0;32m----> 2\u001b[0;31m \u001b[0mnr_avg_profiles\u001b[0m \u001b[0;34m=\u001b[0m \u001b[0mget_simulation_average_profiles\u001b[0m\u001b[0;34m(\u001b[0m\u001b[0mdatabase_name\u001b[0m\u001b[0;34m=\u001b[0m\u001b[0;34m'L500_NR_0'\u001b[0m\u001b[0;34m,\u001b[0m\u001b[0mM500min\u001b[0m\u001b[0;34m=\u001b[0m\u001b[0mM500min\u001b[0m\u001b[0;34m)\u001b[0m\u001b[0;34m\u001b[0m\u001b[0m\n\u001b[0m\u001b[1;32m      3\u001b[0m \u001b[0mcsf_avg_profiles\u001b[0m \u001b[0;34m=\u001b[0m \u001b[0mget_simulation_average_profiles\u001b[0m\u001b[0;34m(\u001b[0m\u001b[0mdatabase_name\u001b[0m\u001b[0;34m=\u001b[0m\u001b[0;34m'L500_CSF_0'\u001b[0m\u001b[0;34m,\u001b[0m\u001b[0mM500min\u001b[0m\u001b[0;34m=\u001b[0m\u001b[0mM500min\u001b[0m\u001b[0;34m)\u001b[0m\u001b[0;34m\u001b[0m\u001b[0m\n\u001b[1;32m      4\u001b[0m \u001b[0magn_avg_profiles\u001b[0m \u001b[0;34m=\u001b[0m \u001b[0mget_simulation_average_profiles\u001b[0m\u001b[0;34m(\u001b[0m\u001b[0mdatabase_name\u001b[0m\u001b[0;34m=\u001b[0m\u001b[0;34m'L500_AGN_0'\u001b[0m\u001b[0;34m,\u001b[0m\u001b[0mM500min\u001b[0m\u001b[0;34m=\u001b[0m\u001b[0mM500min\u001b[0m\u001b[0;34m)\u001b[0m\u001b[0;34m\u001b[0m\u001b[0m\n",
      "\u001b[0;32m<ipython-input-6-b9ffd22ed888>\u001b[0m in \u001b[0;36mget_simulation_average_profiles\u001b[0;34m(database_name, database_dir, rscales, aexps, profiles, M500min)\u001b[0m\n\u001b[1;32m     28\u001b[0m         average_profiles[profile_name] = calculate_average_normalized_profiles(halo_profiles_dict, \n\u001b[1;32m     29\u001b[0m                                                                                \u001b[0mhalo_properties_dict\u001b[0m\u001b[0;34m,\u001b[0m\u001b[0;34m\u001b[0m\u001b[0m\n\u001b[0;32m---> 30\u001b[0;31m                                                                                halo_ids, profile_name, M500min=M500min)\n\u001b[0m\u001b[1;32m     31\u001b[0m \u001b[0;34m\u001b[0m\u001b[0m\n\u001b[1;32m     32\u001b[0m     \u001b[0;32mreturn\u001b[0m \u001b[0maverage_profiles\u001b[0m\u001b[0;34m\u001b[0m\u001b[0m\n",
      "\u001b[0;32m<ipython-input-4-cbd2617ad49e>\u001b[0m in \u001b[0;36mcalculate_average_normalized_profiles\u001b[0;34m(halo_profiles_dict, halo_properties_dict, halo_ids, profile_name, evolution_normalization_function, M500min)\u001b[0m\n\u001b[1;32m     65\u001b[0m             \u001b[0;32mif\u001b[0m \u001b[0mM500c\u001b[0m \u001b[0;34m<\u001b[0m \u001b[0mM500min\u001b[0m \u001b[0;34m:\u001b[0m\u001b[0;34m\u001b[0m\u001b[0m\n\u001b[1;32m     66\u001b[0m                 \u001b[0;32mcontinue\u001b[0m\u001b[0;34m\u001b[0m\u001b[0m\n\u001b[0;32m---> 67\u001b[0;31m             \u001b[0maverage_profiles\u001b[0m\u001b[0;34m[\u001b[0m\u001b[0maexp\u001b[0m\u001b[0;34m]\u001b[0m\u001b[0;34m.\u001b[0m\u001b[0mappend\u001b[0m\u001b[0;34m(\u001b[0m\u001b[0mcalculate_scaled_profile\u001b[0m\u001b[0;34m(\u001b[0m\u001b[0maexp\u001b[0m\u001b[0;34m,\u001b[0m \u001b[0mr_mid\u001b[0m\u001b[0;34m,\u001b[0m \u001b[0mr500c\u001b[0m\u001b[0;34m,\u001b[0m \u001b[0mprofile\u001b[0m\u001b[0;34m,\u001b[0m \u001b[0mM500c\u001b[0m\u001b[0;34m,\u001b[0m \u001b[0mrbins\u001b[0m\u001b[0;34m=\u001b[0m\u001b[0mrbins\u001b[0m\u001b[0;34m)\u001b[0m\u001b[0;34m)\u001b[0m\u001b[0;34m\u001b[0m\u001b[0m\n\u001b[0m\u001b[1;32m     68\u001b[0m \u001b[0;34m\u001b[0m\u001b[0m\n\u001b[1;32m     69\u001b[0m         \u001b[0maverage_profiles\u001b[0m\u001b[0;34m[\u001b[0m\u001b[0maexp\u001b[0m\u001b[0;34m]\u001b[0m \u001b[0;34m=\u001b[0m \u001b[0mnp\u001b[0m\u001b[0;34m.\u001b[0m\u001b[0marray\u001b[0m\u001b[0;34m(\u001b[0m\u001b[0maverage_profiles\u001b[0m\u001b[0;34m[\u001b[0m\u001b[0maexp\u001b[0m\u001b[0;34m]\u001b[0m\u001b[0;34m)\u001b[0m\u001b[0;34m.\u001b[0m\u001b[0mmean\u001b[0m\u001b[0;34m(\u001b[0m\u001b[0maxis\u001b[0m\u001b[0;34m=\u001b[0m\u001b[0;36m0\u001b[0m\u001b[0;34m)\u001b[0m\u001b[0;34m\u001b[0m\u001b[0m\n",
      "\u001b[0;31mTypeError\u001b[0m: calculate_scaled_profile() takes exactly 2 arguments (6 given)"
     ]
    }
   ],
   "source": [
    "M500min=3e14\n",
    "nr_avg_profiles = get_simulation_average_profiles(database_name='L500_NR_0',M500min=M500min)\n",
    "csf_avg_profiles = get_simulation_average_profiles(database_name='L500_CSF_0',M500min=M500min)\n",
    "agn_avg_profiles = get_simulation_average_profiles(database_name='L500_AGN_0',M500min=M500min)\n"
   ]
  },
  {
   "cell_type": "markdown",
   "metadata": {},
   "source": [
    "Plotting some simulation profiles.  Overall, what we see is that the simulations have higher normalization than the McDonald+14 profiles.  However, there is an analogous trend with redshift.  The high redshift bin has a higher normalized pressure in the inner regions.  As the scaled radius increase, the profiles cross over, and the high redshift bin has lower pressure. Note: this trend does not hold if we allow low mass halos in the sample."
   ]
  },
  {
   "cell_type": "code",
   "execution_count": null,
   "metadata": {
    "collapsed": false
   },
   "outputs": [],
   "source": [
    "def plot_sim_pressure_w_McDonald(avg_profiles, Pkey=None) :\n",
    "    for aexp in avg_profiles[Pkey].keys() :\n",
    "        plt.plot(rbins, avg_profiles[Pkey][aexp],ls='-.',label=Pkey+': z=%.1f'%(1./aexp-1.))\n",
    "    plot_McDonald(rbins)    "
   ]
  },
  {
   "cell_type": "code",
   "execution_count": null,
   "metadata": {
    "collapsed": false
   },
   "outputs": [],
   "source": [
    "# Velocity weighted pressure\n",
    "plot_sim_pressure_w_McDonald(nr_avg_profiles, Pkey = 'P_vw')"
   ]
  },
  {
   "cell_type": "code",
   "execution_count": null,
   "metadata": {
    "collapsed": false
   },
   "outputs": [],
   "source": [
    "# Mass weighted pressure\n",
    "plot_sim_pressure_w_McDonald(nr_avg_profiles, Pkey = 'P_mw')"
   ]
  },
  {
   "cell_type": "code",
   "execution_count": null,
   "metadata": {
    "collapsed": false
   },
   "outputs": [],
   "source": [
    "# Mass weighted bulk pressure\n",
    "plot_sim_pressure_w_McDonald(nr_avg_profiles, Pkey = 'Bulk_P_mw')"
   ]
  },
  {
   "cell_type": "code",
   "execution_count": null,
   "metadata": {
    "collapsed": false
   },
   "outputs": [],
   "source": [
    "# Velocity weighted pressure\n",
    "plot_sim_pressure_w_McDonald(csf_avg_profiles, Pkey = 'P_vw')"
   ]
  },
  {
   "cell_type": "code",
   "execution_count": null,
   "metadata": {
    "collapsed": false
   },
   "outputs": [],
   "source": [
    "# Mass weighted pressure\n",
    "plot_sim_pressure_w_McDonald(csf_avg_profiles, Pkey = 'P_mw')"
   ]
  },
  {
   "cell_type": "code",
   "execution_count": null,
   "metadata": {
    "collapsed": false
   },
   "outputs": [],
   "source": [
    "# Mass weighted bulk pressure\n",
    "plot_sim_pressure_w_McDonald(nr_avg_profiles, Pkey = 'Bulk_P_mw')"
   ]
  },
  {
   "cell_type": "code",
   "execution_count": null,
   "metadata": {
    "collapsed": false
   },
   "outputs": [],
   "source": [
    "# Velocity weighted pressure\n",
    "plot_sim_pressure_w_McDonald(agn_avg_profiles, Pkey = 'P_vw')"
   ]
  },
  {
   "cell_type": "code",
   "execution_count": null,
   "metadata": {
    "collapsed": false
   },
   "outputs": [],
   "source": [
    "# Mass weighted pressure\n",
    "plot_sim_pressure_w_McDonald(agn_avg_profiles, Pkey = 'P_mw')"
   ]
  },
  {
   "cell_type": "code",
   "execution_count": null,
   "metadata": {
    "collapsed": false
   },
   "outputs": [],
   "source": [
    "# Mass weighted bulk pressure\n",
    "plot_sim_pressure_w_McDonald(agn_avg_profiles, Pkey = 'Bulk_P_mw')"
   ]
  },
  {
   "cell_type": "markdown",
   "metadata": {},
   "source": [
    "The same allowing low mass halos into the sample."
   ]
  },
  {
   "cell_type": "code",
   "execution_count": null,
   "metadata": {
    "collapsed": false
   },
   "outputs": [],
   "source": [
    "M500min=1e13\n",
    "nr_avg_profiles = get_simulation_average_profiles(database_name='L500_NR_0',M500min=M500min)\n",
    "csf_avg_profiles = get_simulation_average_profiles(database_name='L500_CSF_0',M500min=M500min)\n",
    "agn_avg_profiles = get_simulation_average_profiles(database_name='L500_AGN_0',M500min=M500min)\n"
   ]
  },
  {
   "cell_type": "code",
   "execution_count": null,
   "metadata": {
    "collapsed": false
   },
   "outputs": [],
   "source": [
    "# Velocity weighted pressure\n",
    "plot_sim_pressure_w_McDonald(nr_avg_profiles, Pkey = 'P_vw')"
   ]
  },
  {
   "cell_type": "code",
   "execution_count": null,
   "metadata": {
    "collapsed": false
   },
   "outputs": [],
   "source": [
    "# Mass weighted pressure\n",
    "plot_sim_pressure_w_McDonald(nr_avg_profiles, Pkey = 'P_mw')"
   ]
  },
  {
   "cell_type": "code",
   "execution_count": null,
   "metadata": {
    "collapsed": false
   },
   "outputs": [],
   "source": [
    "# Mass weighted bulk pressure\n",
    "plot_sim_pressure_w_McDonald(nr_avg_profiles, Pkey = 'Bulk_P_mw')"
   ]
  },
  {
   "cell_type": "code",
   "execution_count": null,
   "metadata": {
    "collapsed": true
   },
   "outputs": [],
   "source": []
  }
 ],
 "metadata": {
  "anaconda-cloud": {},
  "kernelspec": {
   "display_name": "Python 2",
   "language": "python",
   "name": "python2"
  },
  "language_info": {
   "codemirror_mode": {
    "name": "ipython",
    "version": 2
   },
   "file_extension": ".py",
   "mimetype": "text/x-python",
   "name": "python",
   "nbconvert_exporter": "python",
   "pygments_lexer": "ipython2",
   "version": "2.7.13"
  }
 },
 "nbformat": 4,
 "nbformat_minor": 1
}
