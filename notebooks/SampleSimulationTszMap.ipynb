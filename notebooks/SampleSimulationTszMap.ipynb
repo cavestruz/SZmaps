{
 "cells": [
  {
   "cell_type": "code",
   "execution_count": 1,
   "metadata": {
    "collapsed": true
   },
   "outputs": [],
   "source": [
    "from astropy.io.fits import getdata\n",
    "from astropy.cosmology import Planck13\n",
    "import astropy.constants as const\n",
    "import matplotlib\n",
    "import matplotlib.pyplot as plt\n",
    "%matplotlib inline"
   ]
  },
  {
   "cell_type": "code",
   "execution_count": 2,
   "metadata": {
    "collapsed": false
   },
   "outputs": [
    {
     "name": "stdout",
     "output_type": "stream",
     "text": [
      "looking in ../../L500analysis/simulation_databases/ for L500_NR_0.db\n",
      "    id     r200m    r500c  M_total_200m  M_total_500c\n",
      "0    1  2395.287  887.308  8.612500e+14  4.058300e+14\n",
      "1  104  2346.400  819.107  8.095900e+14  3.192600e+14\n"
     ]
    }
   ],
   "source": [
    "# Get Database Contents for halo properties (200m and 500c)\n",
    "import L500analysis.caps.io.reader as db\n",
    "sim = db.Simulation('L500_NR_0',db_dir='../../L500analysis/simulation_databases/'\n",
    "                  )\n",
    "halo_props=sim.get_halo_properties([1,104],['r200m','r500c','M_total_200m','M_total_500c'],'1.0005')\n",
    "print halo_props"
   ]
  },
  {
   "cell_type": "code",
   "execution_count": 3,
   "metadata": {
    "collapsed": false,
    "scrolled": false
   },
   "outputs": [
    {
     "data": {
      "text/plain": [
       "1    3.192600e+14\n",
       "Name: M_total_500c, dtype: float64"
      ]
     },
     "execution_count": 3,
     "metadata": {},
     "output_type": "execute_result"
    }
   ],
   "source": [
    "halo_props['M_total_500c'][halo_props['id']==104]"
   ]
  },
  {
   "cell_type": "code",
   "execution_count": 4,
   "metadata": {
    "collapsed": false
   },
   "outputs": [],
   "source": [
    "# Constants\n",
    "kb = const.k_B.cgs.value # erg/K\n",
    "m2cm = 100 # cm/m\n",
    "Msun2g = const.M_sun.cgs.value # g/Msun\n",
    "kpc2cm = const.kpc.cgs.value # cm/kpc\n",
    "Mpc2cm = kpc2cm * 1/1000 \n",
    "sigT = 6.65245873*10**(-29) * m2cm * m2cm # cm^2\n",
    "me = const.m_e.cgs.value # g\n",
    "c = const.c.cgs.value # cm/s\n",
    "h = Planck13.h\n",
    "rhocrit = Planck13.critical_density0.value # g/cm^3\n",
    "Tcmb = Planck13.Tcmb0.value # K\n",
    "Om0 = Planck13.Om0 * rhocrit # g/cm^3 \n",
    "G = const.G.cgs.value \n",
    "Lvmax = 8\n",
    "kpchperpix=3.6\n",
    "dA = { z: Planck13.angular_diameter_distance(z).value * Mpc2cm for z in [0, 1] }"
   ]
  },
  {
   "cell_type": "code",
   "execution_count": 5,
   "metadata": {
    "collapsed": false
   },
   "outputs": [
    {
     "data": {
      "text/plain": [
       "0.6777"
      ]
     },
     "execution_count": 5,
     "metadata": {},
     "output_type": "execute_result"
    }
   ],
   "source": [
    "Planck13.h"
   ]
  },
  {
   "cell_type": "code",
   "execution_count": 6,
   "metadata": {
    "collapsed": true
   },
   "outputs": [],
   "source": [
    "def get_T_rho(Tfile, rhofile, aexp=1.0) :\n",
    "    return getdata(Tfile), getdata(rhofile)*(Om0/aexp)"
   ]
  },
  {
   "cell_type": "code",
   "execution_count": 7,
   "metadata": {
    "collapsed": true
   },
   "outputs": [],
   "source": [
    "T1, rho1 = get_T_rho('../data/temperature_a1.0005_CL1_N256_Lv6.fits',\n",
    "                     '../data/rhogas_a1.0005_CL1_N256_Lv6.fits')"
   ]
  },
  {
   "cell_type": "code",
   "execution_count": 8,
   "metadata": {
    "collapsed": true
   },
   "outputs": [],
   "source": [
    "T104, rho104 = get_T_rho('../data/temperature_a1.0005_CL104_N256_Lv6.fits',\n",
    "                         '../data/rhogas_a1.0005_CL104_N256_Lv6.fits')"
   ]
  },
  {
   "cell_type": "code",
   "execution_count": 9,
   "metadata": {
    "collapsed": false
   },
   "outputs": [],
   "source": [
    "T13z1, rho13z1 = get_T_rho('../data/temperature_a0.5014_CL13_N256_Lv5.fits',\n",
    "                               '../data/rhogas_a0.5014_CL13_N256_Lv5.fits')"
   ]
  },
  {
   "cell_type": "code",
   "execution_count": 10,
   "metadata": {
    "collapsed": true
   },
   "outputs": [],
   "source": [
    "def calculate_T500(M500c, R500c) :\n",
    "    return G*M500c/(2*R500c)"
   ]
  },
  {
   "cell_type": "code",
   "execution_count": 11,
   "metadata": {
    "collapsed": false
   },
   "outputs": [],
   "source": [
    "def calculate_ysz(ne, Te) :\n",
    "    return ne * kb * Te * sigT / (me * c**2)"
   ]
  },
  {
   "cell_type": "code",
   "execution_count": 12,
   "metadata": {
    "collapsed": true
   },
   "outputs": [],
   "source": [
    "def YSZ( ysz, aexp=1.0, Lv=6.) :\n",
    "    # YSZ from each cube\n",
    "    dA = Planck13.angular_diameter_distance(1./aexp - 1.)\n",
    "    # level and redshift dependent volume element\n",
    "    Lv_width = kpchperpix * kpc2cm * 2**(Lvmax - Lv) / h\n",
    "    dV = Lv_width * Lv_width * Lv_width\n",
    "    return (1/dA**2) * ysz * dV"
   ]
  },
  {
   "cell_type": "code",
   "execution_count": 13,
   "metadata": {
    "collapsed": true
   },
   "outputs": [],
   "source": [
    "def calculate_Tsz_freq_dependence(nu) :\n",
    "    x = h*nu / (kb * Tcmb)\n",
    "    return x * (np.exp(x)+1.)/(np.exp(x)-1.) - 4."
   ]
  },
  {
   "cell_type": "code",
   "execution_count": 14,
   "metadata": {
    "collapsed": false
   },
   "outputs": [],
   "source": [
    "ysz104 = calculate_ysz( rho104, T104 )\n",
    "ysz1 = calculate_ysz( rho1, T1 )"
   ]
  },
  {
   "cell_type": "code",
   "execution_count": 15,
   "metadata": {
    "collapsed": true
   },
   "outputs": [],
   "source": [
    "ysz13z1 = calculate_ysz( rho13z1, T13z1 )"
   ]
  },
  {
   "cell_type": "code",
   "execution_count": 16,
   "metadata": {
    "collapsed": false
   },
   "outputs": [
    {
     "name": "stdout",
     "output_type": "stream",
     "text": [
      "0    887.308\n",
      "1    819.107\n",
      "Name: r500c, dtype: float64\n",
      "0    2395.287\n",
      "1    2346.400\n",
      "Name: r200m, dtype: float64\n",
      "1945.6\n"
     ]
    }
   ],
   "source": [
    "print halo_props['r500c']\n",
    "print halo_props['r200m']\n",
    "print 3.8 * 4. *256./2."
   ]
  },
  {
   "cell_type": "code",
   "execution_count": 17,
   "metadata": {
    "collapsed": false
   },
   "outputs": [],
   "source": [
    "T500_104 = calculate_T500(halo_props['M_total_500c'][halo_props['id']==104],halo_props['r500c'][halo_props['id']==104])\n",
    "T500_1 = calculate_T500(halo_props['M_total_500c'][halo_props['id']==1],halo_props['r500c'][halo_props['id']==1])\n"
   ]
  },
  {
   "cell_type": "code",
   "execution_count": 18,
   "metadata": {
    "collapsed": false
   },
   "outputs": [
    {
     "data": {
      "text/plain": [
       "<matplotlib.image.AxesImage at 0x7f6d74aae4d0>"
      ]
     },
     "execution_count": 18,
     "metadata": {},
     "output_type": "execute_result"
    },
    {
     "data": {
      "image/png": "[encoded data removed]",
      "text/plain": [
       "<matplotlib.figure.Figure at 0x7f6d82973a10>"
      ]
     },
     "metadata": {},
     "output_type": "display_data"
    }
   ],
   "source": [
    "plt.imshow(ysz104.sum(axis=0))"
   ]
  },
  {
   "cell_type": "code",
   "execution_count": 19,
   "metadata": {
    "collapsed": false
   },
   "outputs": [
    {
     "data": {
      "text/plain": [
       "<matplotlib.image.AxesImage at 0x7f6d725a6590>"
      ]
     },
     "execution_count": 19,
     "metadata": {},
     "output_type": "execute_result"
    },
    {
     "data": {
      "image/png": "[encoded data removed]",
      "text/plain": [
       "<matplotlib.figure.Figure at 0x7f6d72604510>"
      ]
     },
     "metadata": {},
     "output_type": "display_data"
    }
   ],
   "source": [
    "plt.imshow(ysz1.sum(axis=0))"
   ]
  },
  {
   "cell_type": "code",
   "execution_count": 20,
   "metadata": {
    "collapsed": false
   },
   "outputs": [
    {
     "data": {
      "text/plain": [
       "<matplotlib.image.AxesImage at 0x7f6d7246c410>"
      ]
     },
     "execution_count": 20,
     "metadata": {},
     "output_type": "execute_result"
    },
    {
     "data": {
      "image/png": "[encoded data removed]",
      "text/plain": [
       "<matplotlib.figure.Figure at 0x7f6d7253f210>"
      ]
     },
     "metadata": {},
     "output_type": "display_data"
    }
   ],
   "source": [
    "plt.imshow(ysz13z1.sum(axis=0))"
   ]
  },
  {
   "cell_type": "code",
   "execution_count": 21,
   "metadata": {
    "collapsed": true
   },
   "outputs": [],
   "source": [
    "def collect_shell_min_max_indices(r_min, r_max, cube_dist, r_units='r500c',halo_id=1,Lv=6, kpchperpix=3.6, cells_per_cube=256) :\n",
    "    '''Returns a np.where statement for the cube'''\n",
    "    r_scale = float(halo_props[r_units][halo_props['id']==halo_id]) * kpc2cm / h\n",
    "    Lv_width = kpchperpix * kpc2cm * 2**(Lvmax - Lv) / h\n",
    "    # compute min/max in terms of cell width\n",
    "    r_min *= r_scale / Lv_width\n",
    "    r_max *= r_scale / Lv_width\n",
    "    return np.where( (cube_dist >= r_min)  &  (cube_dist <= r_max) ) "
   ]
  },
  {
   "cell_type": "code",
   "execution_count": 22,
   "metadata": {
    "collapsed": false
   },
   "outputs": [],
   "source": [
    "def compute_cell_3d_distance_from_center(cells_per_cube=256) :\n",
    "    '''For a 3x3 cube, should look like\n",
    "    sqrt(5)  sqrt(2)  sqrt(5) | sqrt(2) 1  sqrt(2)  |  sqrt(5)  sqrt(2)  sqrt(5)\n",
    "    sqrt(2)  1        sqrt(2) | 1       0  1        |  sqrt(2)  1        sqrt(2)\n",
    "    sqrt(5)  sqrt(2)  sqrt(5) | sqrt(2) 1  sqrt(2)  |  sqrt(5)  sqrt(2)  sqrt(5)\n",
    "    '''\n",
    "    cube = []\n",
    "    for i in np.arange(-1*(cells_per_cube-1)/2., (cells_per_cube-1)/2.+1,1.) :\n",
    "        for j in np.arange(-1*(cells_per_cube-1)/2., (cells_per_cube-1)/2.+1,1.) :\n",
    "            for k in np.arange(-1*(cells_per_cube-1)/2., (cells_per_cube-1)/2.+1,1.) :\n",
    "                cube.append(np.sqrt(i**2+j**2+k**2))\n",
    "    return np.array(cube).reshape(cells_per_cube,cells_per_cube,cells_per_cube)"
   ]
  },
  {
   "cell_type": "code",
   "execution_count": 23,
   "metadata": {
    "collapsed": false
   },
   "outputs": [
    {
     "ename": "NameError",
     "evalue": "name 'np' is not defined",
     "output_type": "error",
     "traceback": [
      "\u001b[1;31m---------------------------------------------------------------------------\u001b[0m",
      "\u001b[1;31mNameError\u001b[0m                                 Traceback (most recent call last)",
      "\u001b[1;32m<ipython-input-23-aaeca227ee1e>\u001b[0m in \u001b[0;36m<module>\u001b[1;34m()\u001b[0m\n\u001b[0;32m      1\u001b[0m \u001b[0mtest_cube\u001b[0m \u001b[1;33m=\u001b[0m \u001b[1;33m[\u001b[0m\u001b[1;33m]\u001b[0m\u001b[1;33m\u001b[0m\u001b[0m\n\u001b[1;32m----> 2\u001b[1;33m \u001b[1;32mfor\u001b[0m \u001b[0mi\u001b[0m \u001b[1;32min\u001b[0m \u001b[0mnp\u001b[0m\u001b[1;33m.\u001b[0m\u001b[0marange\u001b[0m\u001b[1;33m(\u001b[0m\u001b[1;33m-\u001b[0m\u001b[1;36m1\u001b[0m\u001b[1;33m,\u001b[0m\u001b[1;36m2\u001b[0m\u001b[1;33m)\u001b[0m \u001b[1;33m:\u001b[0m\u001b[1;33m\u001b[0m\u001b[0m\n\u001b[0m\u001b[0;32m      3\u001b[0m     \u001b[1;32mfor\u001b[0m \u001b[0mj\u001b[0m \u001b[1;32min\u001b[0m \u001b[0mnp\u001b[0m\u001b[1;33m.\u001b[0m\u001b[0marange\u001b[0m\u001b[1;33m(\u001b[0m\u001b[1;33m-\u001b[0m\u001b[1;36m1\u001b[0m\u001b[1;33m,\u001b[0m\u001b[1;36m2\u001b[0m\u001b[1;33m)\u001b[0m \u001b[1;33m:\u001b[0m\u001b[1;33m\u001b[0m\u001b[0m\n\u001b[0;32m      4\u001b[0m         \u001b[1;32mfor\u001b[0m \u001b[0mk\u001b[0m \u001b[1;32min\u001b[0m \u001b[0mnp\u001b[0m\u001b[1;33m.\u001b[0m\u001b[0marange\u001b[0m\u001b[1;33m(\u001b[0m\u001b[1;33m-\u001b[0m\u001b[1;36m1\u001b[0m\u001b[1;33m,\u001b[0m\u001b[1;36m2\u001b[0m\u001b[1;33m)\u001b[0m \u001b[1;33m:\u001b[0m\u001b[1;33m\u001b[0m\u001b[0m\n\u001b[0;32m      5\u001b[0m             \u001b[0mtest_cube\u001b[0m\u001b[1;33m.\u001b[0m\u001b[0mappend\u001b[0m\u001b[1;33m(\u001b[0m\u001b[0mnp\u001b[0m\u001b[1;33m.\u001b[0m\u001b[0msqrt\u001b[0m\u001b[1;33m(\u001b[0m\u001b[0mi\u001b[0m\u001b[1;33m**\u001b[0m\u001b[1;36m2\u001b[0m\u001b[1;33m+\u001b[0m\u001b[0mj\u001b[0m\u001b[1;33m**\u001b[0m\u001b[1;36m2\u001b[0m\u001b[1;33m+\u001b[0m\u001b[0mk\u001b[0m\u001b[1;33m**\u001b[0m\u001b[1;36m2\u001b[0m\u001b[1;33m)\u001b[0m\u001b[1;33m)\u001b[0m\u001b[1;33m\u001b[0m\u001b[0m\n",
      "\u001b[1;31mNameError\u001b[0m: name 'np' is not defined"
     ]
    }
   ],
   "source": [
    "test_cube = []\n",
    "for i in np.arange(-1,2) :\n",
    "    for j in np.arange(-1,2) :\n",
    "        for k in np.arange(-1,2) :\n",
    "            test_cube.append(np.sqrt(i**2+j**2+k**2))\n",
    "test_cube = np.array(test_cube).reshape(3,3,3)\n",
    "np.all(compute_cell_3d_distance_from_center(3)==test_cube)"
   ]
  },
  {
   "cell_type": "code",
   "execution_count": null,
   "metadata": {
    "collapsed": true
   },
   "outputs": [],
   "source": [
    "def compute_cell_2d_distance_from_center(cells_per_cube=256) :\n",
    "    '''For a 2x2 cube, should look like\n",
    "    sqrt(2) 1  sqrt(2)\n",
    "    1       0  1      \n",
    "    sqrt(2) 1  sqrt(2)\n",
    "    '''\n",
    "    square = []\n",
    "    for i in np.arange(-1*(cells_per_cube-1)/2., (cells_per_cube-1)/2.+1,1.) :\n",
    "        for j in np.arange(-1*(cells_per_cube-1)/2., (cells_per_cube-1)/2.+1,1.) :\n",
    "                square.append(np.sqrt(i**2+j**2))\n",
    "    return np.array(square).reshape(cells_per_cube,cells_per_cube)"
   ]
  },
  {
   "cell_type": "code",
   "execution_count": null,
   "metadata": {
    "collapsed": false
   },
   "outputs": [],
   "source": [
    "test_square = []\n",
    "for i in np.arange(-1,2) :\n",
    "    for j in np.arange(-1,2) :\n",
    "        test_square.append(np.sqrt(i**2+j**2))\n",
    "test_square = np.array(test_square).reshape(3,3)\n",
    "np.all(compute_cell_2d_distance_from_center(3)==test_square)"
   ]
  },
  {
   "cell_type": "code",
   "execution_count": null,
   "metadata": {
    "collapsed": true
   },
   "outputs": [],
   "source": [
    "from SZmaps.utils import files\n",
    "# pre-computed from compute_cell_?d_distance_from_center()\n",
    "distance_3d = files.load_pkl('../samples/distance_3d.pkl')\n",
    "distance_2d = files.load_pkl('../samples/distance_2d.pkl')"
   ]
  },
  {
   "cell_type": "code",
   "execution_count": null,
   "metadata": {
    "collapsed": false
   },
   "outputs": [],
   "source": [
    "sphere_indices_r500c = collect_shell_min_max_indices(1, 1.5, distance_3d, halo_id=1 )"
   ]
  },
  {
   "cell_type": "code",
   "execution_count": null,
   "metadata": {
    "collapsed": true
   },
   "outputs": [],
   "source": [
    "sphere_indices_r200c = collect_shell_min_max_indices(.66, 1., distance_3d, halo_id=1 )"
   ]
  },
  {
   "cell_type": "code",
   "execution_count": null,
   "metadata": {
    "collapsed": false
   },
   "outputs": [],
   "source": [
    "ysz1[sphere_indices_r200c].sum()"
   ]
  },
  {
   "cell_type": "code",
   "execution_count": null,
   "metadata": {
    "collapsed": true
   },
   "outputs": [],
   "source": []
  }
 ],
 "metadata": {
  "kernelspec": {
   "display_name": "Python 2",
   "language": "python",
   "name": "python2"
  },
  "language_info": {
   "codemirror_mode": {
    "name": "ipython",
    "version": 2
   },
   "file_extension": ".py",
   "mimetype": "text/x-python",
   "name": "python",
   "nbconvert_exporter": "python",
   "pygments_lexer": "ipython2",
   "version": "2.7.13"
  }
 },
 "nbformat": 4,
 "nbformat_minor": 0
}
